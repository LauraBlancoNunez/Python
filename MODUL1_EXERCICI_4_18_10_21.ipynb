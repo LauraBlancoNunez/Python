{
 "cells": [
  {
   "cell_type": "code",
   "execution_count": 11,
   "id": "ecdc7770",
   "metadata": {},
   "outputs": [
    {
     "name": "stdout",
     "output_type": "stream",
     "text": [
      "[[1.         0.37258014]\n",
      " [0.37258014 1.        ]]\n"
     ]
    }
   ],
   "source": [
    "'''\n",
    "Created on 18 d'octubre de 2021\n",
    "@author: lbn\n",
    "'''\n",
    "a = \"Curs Python\"\n",
    "'''exercici 4: Implementa manualment una funció que calculi el coeficient de correlació. Informa’t-en sobre els seus usos i interpretació.\n",
    "'''\n",
    "'''coeficient de correlació lineal és una associació entre dues variables numèriques. \n",
    "El rang on s'indica el grau d'associació entre els valors és entre -1 i 1. \n",
    "Els valors pròxims a 0 tenen una associació petita o nul·la, els resulatts pròxims a 1 o -1, tenen major grau d'associació'''\n",
    "\n",
    "import numpy as np\n",
    "\n",
    "np.random.seed(10)\n",
    "\n",
    "# genera 10 valors aleatoris per cadascuna de les 2 varibles\n",
    "X = np.random.randn(10)\n",
    "\n",
    "Y = np.random.randn(10)\n",
    "\n",
    "# calcular la matriu de correlació\n",
    "C = np.corrcoef(X,Y)\n",
    "\n",
    "print(C)"
   ]
  },
  {
   "cell_type": "code",
   "execution_count": null,
   "id": "20649924",
   "metadata": {},
   "outputs": [],
   "source": []
  }
 ],
 "metadata": {
  "kernelspec": {
   "display_name": "Python 3",
   "language": "python",
   "name": "python3"
  },
  "language_info": {
   "codemirror_mode": {
    "name": "ipython",
    "version": 3
   },
   "file_extension": ".py",
   "mimetype": "text/x-python",
   "name": "python",
   "nbconvert_exporter": "python",
   "pygments_lexer": "ipython3",
   "version": "3.8.8"
  }
 },
 "nbformat": 4,
 "nbformat_minor": 5
}
