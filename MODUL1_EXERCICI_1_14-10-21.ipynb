{
 "cells": [
  {
   "cell_type": "code",
   "execution_count": 29,
   "id": "b8770147",
   "metadata": {},
   "outputs": [
    {
     "name": "stdout",
     "output_type": "stream",
     "text": [
      "1259\n",
      "10\n",
      "157.375\n",
      "14.5\n",
      "1.0\n"
     ]
    }
   ],
   "source": [
    "'''\n",
    "Created on 14 d'octubre de 2021\n",
    "@author: lbn\n",
    "'''\n",
    "a = \"Curs Python\"\n",
    "'''exercici 1: Crea una funció que donat un Array d’una dimensió, et faci un resum estadístic bàsic de les dades. Si detecta que l’array té més d’una dimensió, ha de mostrar un missatge d’error'''\n",
    "import numpy as np\n",
    "arr = np.array([10, 11, 34, 12, 1113, 14, 15, 50])\n",
    "\n",
    "'''Array-wise sum'''\n",
    "newarr = np.sum(arr)\n",
    "print(newarr)\n",
    "'''Array-wise minimum value'''\n",
    "newarr = np.min(arr)\n",
    "print(newarr)\n",
    "'''mean'''\n",
    "newarr = np.mean(arr)\n",
    "print(newarr)\n",
    "'''median'''\n",
    "newarr = np.median(arr)\n",
    "print(newarr)\n",
    "'''correlation coeficient'''\n",
    "newarr = np.corrcoef(arr)\n",
    "print(newarr)"
   ]
  },
  {
   "cell_type": "code",
   "execution_count": null,
   "id": "6e401713",
   "metadata": {},
   "outputs": [],
   "source": []
  }
 ],
 "metadata": {
  "kernelspec": {
   "display_name": "Python 3",
   "language": "python",
   "name": "python3"
  },
  "language_info": {
   "codemirror_mode": {
    "name": "ipython",
    "version": 3
   },
   "file_extension": ".py",
   "mimetype": "text/x-python",
   "name": "python",
   "nbconvert_exporter": "python",
   "pygments_lexer": "ipython3",
   "version": "3.8.8"
  }
 },
 "nbformat": 4,
 "nbformat_minor": 5
}
