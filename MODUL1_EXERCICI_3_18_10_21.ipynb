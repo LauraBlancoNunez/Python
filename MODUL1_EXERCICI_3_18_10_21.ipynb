{
 "cells": [
  {
   "cell_type": "code",
   "execution_count": 3,
   "id": "ecdc7770",
   "metadata": {},
   "outputs": [
    {
     "name": "stdout",
     "output_type": "stream",
     "text": [
      "Indica el número de files: \n",
      "5\n",
      "Indica el número de columnes: \n",
      "3\n",
      "[[ 2 10 36]\n",
      " [37 77 41]\n",
      " [69 72 18]\n",
      " [55  0 47]\n",
      " [43 27 56]]\n"
     ]
    }
   ],
   "source": [
    "'''\n",
    "Created on 18 d'octubre de 2021\n",
    "@author: lbn\n",
    "'''\n",
    "a = \"Curs Python\"\n",
    "'''exercici 3: Crea una funció que donada una taula de dues dimensions, et calculi els totals per fila i els totals per columna.\n",
    "'''\n",
    "#primer una funció que ens dona una matriu de NxM\n",
    "import numpy as np\n",
    "import random\n",
    "n = int(input(\"Indica el número de files: \\n\"))\n",
    "m = int(input(\"Indica el número de columnes: \\n\"))\n",
    "matriu = np.random.randint(0, 100, size=(n, m))\n",
    "print(matriu)"
   ]
  },
  {
   "cell_type": "code",
   "execution_count": 4,
   "id": "f238ee64",
   "metadata": {},
   "outputs": [
    {
     "name": "stdout",
     "output_type": "stream",
     "text": [
      "[ 48 155 159 102 126]\n",
      "[206 186 198]\n"
     ]
    }
   ],
   "source": [
    "#segon, la suma de les files i de les columnes, de la matriu creada NxM\n",
    "sumafilas = np.sum(matriu, axis=1)\n",
    "sumacolumnes = np.sum(matriu, axis=0)\n",
    "print(sumafilas)\n",
    "print(sumacolumnes)\n"
   ]
  },
  {
   "cell_type": "code",
   "execution_count": null,
   "id": "4e362c62",
   "metadata": {},
   "outputs": [],
   "source": []
  }
 ],
 "metadata": {
  "kernelspec": {
   "display_name": "Python 3",
   "language": "python",
   "name": "python3"
  },
  "language_info": {
   "codemirror_mode": {
    "name": "ipython",
    "version": 3
   },
   "file_extension": ".py",
   "mimetype": "text/x-python",
   "name": "python",
   "nbconvert_exporter": "python",
   "pygments_lexer": "ipython3",
   "version": "3.8.8"
  }
 },
 "nbformat": 4,
 "nbformat_minor": 5
}
