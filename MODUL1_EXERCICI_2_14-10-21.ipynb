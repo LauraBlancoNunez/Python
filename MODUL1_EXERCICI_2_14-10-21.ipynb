{
 "cells": [
  {
   "cell_type": "code",
   "execution_count": 6,
   "id": "ecdc7770",
   "metadata": {},
   "outputs": [
    {
     "name": "stdout",
     "output_type": "stream",
     "text": [
      "Indica el número de files: \n",
      "10\n",
      "Indica el número de columnes: \n",
      "10\n",
      "[[64 92 37 87 25 74  8 19 14 79]\n",
      " [92 27 22  4 26 50 87 88 26  5]\n",
      " [20 49 65 11 19 21  5 20 92 64]\n",
      " [91 42 50 39 72 83 85 10 84 76]\n",
      " [38 50 74 92 95 67 67 83 58 41]\n",
      " [40 65 20 65 77  2 66 59 12  6]\n",
      " [89 99 34 25  2 17 31  6 87 86]\n",
      " [21 86 12  1 41 73 63 15  4 59]\n",
      " [72 71 35 70 58 91 96  5 40 59]\n",
      " [16 15 47 88 66 68 53 26 24 31]]\n"
     ]
    }
   ],
   "source": [
    "'''\n",
    "Created on 18 d'octubre de 2021\n",
    "@author: lbn\n",
    "'''\n",
    "a = \"Curs Python\"\n",
    "'''exercici 2: Crea una funció que et generi un quadrat NxN de nombres aleatoris entre el 0 i el 100.'''\n",
    "'''PER ACONSEGUIR UNA MATRIU NxM AMB NÚMEROS ALEATORIS DE 0 A 100'''\n",
    "import numpy as np\n",
    "import random\n",
    "n = int(input(\"Indica el número de files: \\n\"))\n",
    "m = int(input(\"Indica el número de columnes: \\n\"))\n",
    "matriu = np.random.randint(0, 100, size=(n, m))\n",
    "print(matriu)\n"
   ]
  },
  {
   "cell_type": "code",
   "execution_count": null,
   "id": "f238ee64",
   "metadata": {},
   "outputs": [],
   "source": []
  }
 ],
 "metadata": {
  "kernelspec": {
   "display_name": "Python 3",
   "language": "python",
   "name": "python3"
  },
  "language_info": {
   "codemirror_mode": {
    "name": "ipython",
    "version": 3
   },
   "file_extension": ".py",
   "mimetype": "text/x-python",
   "name": "python",
   "nbconvert_exporter": "python",
   "pygments_lexer": "ipython3",
   "version": "3.8.8"
  }
 },
 "nbformat": 4,
 "nbformat_minor": 5
}
